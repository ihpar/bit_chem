{
  "cells": [
    {
      "cell_type": "code",
      "execution_count": 1,
      "metadata": {
        "id": "77gYZvmnokbR"
      },
      "outputs": [],
      "source": [
        "my_str = \"Hello, World!\""
      ]
    },
    {
      "cell_type": "code",
      "execution_count": 2,
      "metadata": {
        "colab": {
          "base_uri": "https://localhost:8080/"
        },
        "id": "Z6xdpiM5oqho",
        "outputId": "0df4fdf8-eb2d-46db-df98-d12b0d66aef3"
      },
      "outputs": [
        {
          "name": "stdout",
          "output_type": "stream",
          "text": [
            "Hello, World!\n"
          ]
        }
      ],
      "source": [
        "print(my_str)"
      ]
    },
    {
      "cell_type": "code",
      "execution_count": 3,
      "metadata": {
        "colab": {
          "base_uri": "https://localhost:8080/",
          "height": 36
        },
        "id": "l6O0PoD5oxxI",
        "outputId": "44993f2a-3d2c-4102-c4e2-04b4232fc81a"
      },
      "outputs": [
        {
          "data": {
            "text/plain": [
              "'H'"
            ]
          },
          "execution_count": 3,
          "metadata": {},
          "output_type": "execute_result"
        }
      ],
      "source": [
        "my_str[0]"
      ]
    },
    {
      "cell_type": "code",
      "execution_count": 4,
      "metadata": {
        "colab": {
          "base_uri": "https://localhost:8080/",
          "height": 36
        },
        "id": "0Lz2lc9jo0dN",
        "outputId": "d437ffb1-fdcc-46d8-8119-e2a303ace866"
      },
      "outputs": [
        {
          "data": {
            "text/plain": [
              "'!'"
            ]
          },
          "execution_count": 4,
          "metadata": {},
          "output_type": "execute_result"
        }
      ],
      "source": [
        "my_str[-1]"
      ]
    },
    {
      "cell_type": "code",
      "execution_count": 5,
      "metadata": {
        "colab": {
          "base_uri": "https://localhost:8080/",
          "height": 36
        },
        "id": "sSlfQ4mFpE8Z",
        "outputId": "32036595-cbc9-4c78-f685-c5e453d0c9d9"
      },
      "outputs": [
        {
          "data": {
            "text/plain": [
              "'el'"
            ]
          },
          "execution_count": 5,
          "metadata": {},
          "output_type": "execute_result"
        }
      ],
      "source": [
        "my_str[1:3]"
      ]
    },
    {
      "cell_type": "code",
      "execution_count": 6,
      "metadata": {
        "colab": {
          "base_uri": "https://localhost:8080/",
          "height": 36
        },
        "id": "XD2Omo1ptRTo",
        "outputId": "c38b0c45-40de-498f-c733-cbe15c6d1b1d"
      },
      "outputs": [
        {
          "data": {
            "text/plain": [
              "'ld'"
            ]
          },
          "execution_count": 6,
          "metadata": {},
          "output_type": "execute_result"
        }
      ],
      "source": [
        "my_str[-3:-1]"
      ]
    },
    {
      "cell_type": "code",
      "execution_count": 7,
      "metadata": {
        "colab": {
          "base_uri": "https://localhost:8080/",
          "height": 36
        },
        "id": "gS-2ypeVtYcH",
        "outputId": "c600f426-1d5e-4f79-a19c-949d91d08e2d"
      },
      "outputs": [
        {
          "data": {
            "text/plain": [
              "'lo, World!'"
            ]
          },
          "execution_count": 7,
          "metadata": {},
          "output_type": "execute_result"
        }
      ],
      "source": [
        "my_str[3:]"
      ]
    },
    {
      "cell_type": "code",
      "execution_count": 8,
      "metadata": {
        "colab": {
          "base_uri": "https://localhost:8080/",
          "height": 36
        },
        "id": "i9FjEMfNtnJW",
        "outputId": "c78c780f-7a46-4972-95ef-bed39862c90f"
      },
      "outputs": [
        {
          "data": {
            "text/plain": [
              "'Hello'"
            ]
          },
          "execution_count": 8,
          "metadata": {},
          "output_type": "execute_result"
        }
      ],
      "source": [
        "my_str[:5]"
      ]
    },
    {
      "cell_type": "code",
      "execution_count": 9,
      "metadata": {
        "colab": {
          "base_uri": "https://localhost:8080/",
          "height": 36
        },
        "id": "1nt8zcd7ulrD",
        "outputId": "c3f411e8-c4c0-4eee-9ac0-97d212b90b9a"
      },
      "outputs": [
        {
          "data": {
            "text/plain": [
              "'el,W'"
            ]
          },
          "execution_count": 9,
          "metadata": {},
          "output_type": "execute_result"
        }
      ],
      "source": [
        "my_str = \"Hello, World!\"\n",
        "my_str[1:9:2]"
      ]
    },
    {
      "cell_type": "code",
      "execution_count": 10,
      "metadata": {
        "colab": {
          "base_uri": "https://localhost:8080/"
        },
        "id": "ROJdmfy9uva5",
        "outputId": "370921cd-7936-4400-9165-87a005184460"
      },
      "outputs": [
        {
          "name": "stdout",
          "output_type": "stream",
          "text": [
            "H\n",
            "e\n",
            "l\n",
            "l\n",
            "o\n",
            ",\n",
            " \n",
            "W\n",
            "o\n",
            "r\n",
            "l\n",
            "d\n",
            "!\n"
          ]
        }
      ],
      "source": [
        "for c in my_str:\n",
        "    print(c)"
      ]
    },
    {
      "cell_type": "code",
      "execution_count": 11,
      "metadata": {
        "colab": {
          "base_uri": "https://localhost:8080/"
        },
        "id": "Zt2zR7hcvEz-",
        "outputId": "d4006b60-5334-4369-ffb1-c9d8e60bb93c"
      },
      "outputs": [
        {
          "name": "stdout",
          "output_type": "stream",
          "text": [
            "H\n",
            "e\n",
            "l\n",
            "l\n",
            "o\n",
            ",\n",
            " \n",
            "W\n",
            "o\n",
            "r\n",
            "l\n",
            "d\n",
            "!\n"
          ]
        }
      ],
      "source": [
        "for i in range(13):\n",
        "    print(my_str[i])"
      ]
    },
    {
      "cell_type": "code",
      "execution_count": 12,
      "metadata": {
        "colab": {
          "base_uri": "https://localhost:8080/"
        },
        "id": "t_o4XQNAvrKa",
        "outputId": "e9b52c37-004b-4f36-8801-34c520c1da2d"
      },
      "outputs": [
        {
          "data": {
            "text/plain": [
              "13"
            ]
          },
          "execution_count": 12,
          "metadata": {},
          "output_type": "execute_result"
        }
      ],
      "source": [
        "len(my_str)"
      ]
    },
    {
      "cell_type": "code",
      "execution_count": 13,
      "metadata": {
        "colab": {
          "base_uri": "https://localhost:8080/"
        },
        "id": "6FBG1A-cvXZV",
        "outputId": "4acc0622-95ab-45a9-d0d8-a8829f276c8b"
      },
      "outputs": [
        {
          "name": "stdout",
          "output_type": "stream",
          "text": [
            "a\n",
            "b\n",
            "c\n"
          ]
        }
      ],
      "source": [
        "my_str = \"abc\"\n",
        "\n",
        "for i in range(len(my_str)):\n",
        "    print(my_str[i])"
      ]
    },
    {
      "cell_type": "code",
      "execution_count": 14,
      "metadata": {
        "id": "jP8ex0LdvpZf"
      },
      "outputs": [],
      "source": [
        "my_list_1 = []\n",
        "my_list_2 = [\"hello\", \"world\"]\n",
        "my_list_3 = [5.2, 6.6, 1.5, 4.7]\n",
        "my_list_4 = [4, False, \"hey\", 4.4, True]"
      ]
    },
    {
      "cell_type": "code",
      "execution_count": 15,
      "metadata": {
        "colab": {
          "base_uri": "https://localhost:8080/"
        },
        "id": "Gq9Yi4duwa1m",
        "outputId": "81c3abcf-0477-4cd1-b5eb-0feff819a8b2"
      },
      "outputs": [
        {
          "name": "stdout",
          "output_type": "stream",
          "text": [
            "[]\n"
          ]
        }
      ],
      "source": [
        "print(my_list_1)"
      ]
    },
    {
      "cell_type": "code",
      "execution_count": 16,
      "metadata": {
        "colab": {
          "base_uri": "https://localhost:8080/"
        },
        "id": "lzEAvnzZwdDK",
        "outputId": "1ba81cd5-4499-438e-fd0b-974e0dbe5b35"
      },
      "outputs": [
        {
          "name": "stdout",
          "output_type": "stream",
          "text": [
            "[4, False, 'hey', 4.4, True]\n"
          ]
        }
      ],
      "source": [
        "print(my_list_4)"
      ]
    },
    {
      "cell_type": "code",
      "execution_count": 17,
      "metadata": {
        "colab": {
          "base_uri": "https://localhost:8080/"
        },
        "id": "GwiC5E2Qwfpt",
        "outputId": "c5daeb13-f409-4169-ccf7-076060f24adc"
      },
      "outputs": [
        {
          "data": {
            "text/plain": [
              "5"
            ]
          },
          "execution_count": 17,
          "metadata": {},
          "output_type": "execute_result"
        }
      ],
      "source": [
        "len(my_list_4)"
      ]
    },
    {
      "cell_type": "code",
      "execution_count": 18,
      "metadata": {
        "colab": {
          "base_uri": "https://localhost:8080/"
        },
        "id": "ABCbU_SowliV",
        "outputId": "d8a0cc44-de8b-48b3-9464-dce871e118bc"
      },
      "outputs": [
        {
          "data": {
            "text/plain": [
              "5.2"
            ]
          },
          "execution_count": 18,
          "metadata": {},
          "output_type": "execute_result"
        }
      ],
      "source": [
        "my_list_3[0]"
      ]
    },
    {
      "cell_type": "code",
      "execution_count": 19,
      "metadata": {
        "colab": {
          "base_uri": "https://localhost:8080/"
        },
        "id": "nrYIZF0iwvp6",
        "outputId": "aa7e7966-91df-4454-cb24-9c282455bb3a"
      },
      "outputs": [
        {
          "data": {
            "text/plain": [
              "4.7"
            ]
          },
          "execution_count": 19,
          "metadata": {},
          "output_type": "execute_result"
        }
      ],
      "source": [
        "my_list_3[-1]"
      ]
    },
    {
      "cell_type": "code",
      "execution_count": 20,
      "metadata": {
        "colab": {
          "base_uri": "https://localhost:8080/"
        },
        "id": "jtphQZaEwx0i",
        "outputId": "0ce4be79-211b-4071-ee25-27d9bc79cbd1"
      },
      "outputs": [
        {
          "data": {
            "text/plain": [
              "[6.6, 1.5]"
            ]
          },
          "execution_count": 20,
          "metadata": {},
          "output_type": "execute_result"
        }
      ],
      "source": [
        "my_list_3[1:3]"
      ]
    },
    {
      "cell_type": "code",
      "execution_count": 21,
      "metadata": {
        "colab": {
          "base_uri": "https://localhost:8080/"
        },
        "id": "IbZUJ3mNw1NU",
        "outputId": "b724e1bd-7451-477b-d151-6f215416cfcb"
      },
      "outputs": [
        {
          "data": {
            "text/plain": [
              "[4, False, 'hey']"
            ]
          },
          "execution_count": 21,
          "metadata": {},
          "output_type": "execute_result"
        }
      ],
      "source": [
        "my_list_4[:3]"
      ]
    },
    {
      "cell_type": "code",
      "execution_count": 22,
      "metadata": {
        "colab": {
          "base_uri": "https://localhost:8080/"
        },
        "id": "ISRivFAzxA27",
        "outputId": "a8887cd2-2519-4728-c717-c422dbcfccaa"
      },
      "outputs": [
        {
          "name": "stdout",
          "output_type": "stream",
          "text": [
            "4\n",
            "False\n",
            "hey\n",
            "4.4\n",
            "True\n"
          ]
        }
      ],
      "source": [
        "for x in my_list_4:\n",
        "    print(x)"
      ]
    },
    {
      "cell_type": "code",
      "execution_count": 23,
      "metadata": {
        "colab": {
          "base_uri": "https://localhost:8080/"
        },
        "id": "0h0api-exK3H",
        "outputId": "6ba224fb-0076-4c9f-d312-528c2390f3b3"
      },
      "outputs": [
        {
          "name": "stdout",
          "output_type": "stream",
          "text": [
            "4\n",
            "False\n",
            "hey\n",
            "4.4\n",
            "True\n"
          ]
        }
      ],
      "source": [
        "for item in my_list_4:\n",
        "    print(item)"
      ]
    },
    {
      "cell_type": "code",
      "execution_count": 24,
      "metadata": {
        "colab": {
          "base_uri": "https://localhost:8080/"
        },
        "id": "7LP_bGrExTdr",
        "outputId": "6b590424-bc7b-474c-c42b-030a2c15049b"
      },
      "outputs": [
        {
          "name": "stdout",
          "output_type": "stream",
          "text": [
            "4\n",
            "False\n",
            "hey\n",
            "4.4\n",
            "True\n"
          ]
        }
      ],
      "source": [
        "for i in range(5):\n",
        "    print(my_list_4[i])"
      ]
    },
    {
      "cell_type": "code",
      "execution_count": 25,
      "metadata": {
        "colab": {
          "base_uri": "https://localhost:8080/"
        },
        "id": "Z7q6R4CWxhr-",
        "outputId": "51b50ecb-4824-4a7a-d05f-eab0a2e1389d"
      },
      "outputs": [
        {
          "name": "stdout",
          "output_type": "stream",
          "text": [
            "4\n",
            "False\n",
            "hey\n",
            "4.4\n",
            "True\n"
          ]
        }
      ],
      "source": [
        "for i in range(len(my_list_4)):\n",
        "    print(my_list_4[i])"
      ]
    },
    {
      "cell_type": "code",
      "execution_count": 26,
      "metadata": {
        "colab": {
          "base_uri": "https://localhost:8080/"
        },
        "id": "2cv5rFDPxmOG",
        "outputId": "2835e1af-822c-4a4c-ad5f-25037d69f3a0"
      },
      "outputs": [
        {
          "name": "stdout",
          "output_type": "stream",
          "text": [
            "4\n",
            "False\n",
            "hey\n",
            "4.4\n",
            "True\n"
          ]
        }
      ],
      "source": [
        "i = 0\n",
        "while i < len(my_list_4):\n",
        "    print(my_list_4[i])\n",
        "    i += 1"
      ]
    },
    {
      "cell_type": "code",
      "execution_count": 27,
      "metadata": {
        "colab": {
          "base_uri": "https://localhost:8080/"
        },
        "id": "_eECqklxx5Ze",
        "outputId": "796594d2-734a-42b3-8a7c-4aff52a3298b"
      },
      "outputs": [
        {
          "name": "stdout",
          "output_type": "stream",
          "text": [
            "['a', 'b', 'c', 'd']\n",
            "['a', 'x', 'c', 'd']\n",
            "['a', 'x', 'c', 'd', 'e']\n",
            "['a', 'x', 'c', 'd', 'e', 'f']\n"
          ]
        }
      ],
      "source": [
        "l = [\"a\", \"b\", \"c\", \"d\"]\n",
        "print(l)\n",
        "\n",
        "l[1] = \"x\"\n",
        "print(l)\n",
        "\n",
        "l.append(\"e\")\n",
        "print(l)\n",
        "\n",
        "l.append(\"f\")\n",
        "print(l)"
      ]
    },
    {
      "cell_type": "code",
      "execution_count": 28,
      "metadata": {
        "colab": {
          "base_uri": "https://localhost:8080/"
        },
        "id": "pKwwyWiYyh4d",
        "outputId": "915934bc-8c18-4fc5-aa8d-30ff24536d1e"
      },
      "outputs": [
        {
          "name": "stdout",
          "output_type": "stream",
          "text": [
            "[1, 2, 3, 4, 5, 6, 7, 8, 9, 10, 11, 12]\n"
          ]
        }
      ],
      "source": [
        "# create a list of integers starting at 1 ending at n\n",
        "# n = 5 -> [1, 2, 3, 4, 5]\n",
        "n = 12\n",
        "r = []\n",
        "for i in range(1, n+1):\n",
        "    r.append(i)\n",
        "\n",
        "print(r)"
      ]
    },
    {
      "cell_type": "code",
      "execution_count": 29,
      "metadata": {
        "id": "cjHmL_9czFyx"
      },
      "outputs": [],
      "source": [
        "# dictionary"
      ]
    }
  ],
  "metadata": {
    "colab": {
      "provenance": []
    },
    "kernelspec": {
      "display_name": "mlenv",
      "language": "python",
      "name": "python3"
    },
    "language_info": {
      "codemirror_mode": {
        "name": "ipython",
        "version": 3
      },
      "file_extension": ".py",
      "mimetype": "text/x-python",
      "name": "python",
      "nbconvert_exporter": "python",
      "pygments_lexer": "ipython3",
      "version": "3.12.2"
    }
  },
  "nbformat": 4,
  "nbformat_minor": 0
}
