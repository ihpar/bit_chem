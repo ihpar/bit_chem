{
  "cells": [
    {
      "cell_type": "code",
      "execution_count": 5,
      "metadata": {
        "colab": {
          "base_uri": "https://localhost:8080/"
        },
        "id": "QOcRrtxul4hK",
        "outputId": "667d7a68-bfef-496b-fe4c-1dac04883f69"
      },
      "outputs": [
        {
          "name": "stdout",
          "output_type": "stream",
          "text": [
            "The length of my_list is: 7\n"
          ]
        }
      ],
      "source": [
        "\"\"\"\n",
        "Ex 1: length w/o len\n",
        "\n",
        "l = [3, 4, 1]\n",
        "length -> 3\n",
        "\n",
        "not allowed len(l)\n",
        "\"\"\"\n",
        "\n",
        "my_list = [3, 4, 1, 5, 7, 6, 1]\n",
        "list_length = 0\n",
        "\n",
        "for elem in my_list:\n",
        "    list_length += 1\n",
        "\n",
        "print(\"The length of my_list is:\", list_length)"
      ]
    },
    {
      "cell_type": "code",
      "execution_count": 11,
      "metadata": {
        "colab": {
          "base_uri": "https://localhost:8080/"
        },
        "id": "mCDRn6WOmYgl",
        "outputId": "ae289ca0-0538-4415-dc45-4465e7f88977"
      },
      "outputs": [
        {
          "name": "stdout",
          "output_type": "stream",
          "text": [
            "The minimum number in my_list is: -4\n"
          ]
        }
      ],
      "source": [
        "\"\"\"\n",
        "Smallest number in a list\n",
        "\n",
        "my_list = [17, 14, 12, 15, 13, 11]\n",
        "\n",
        "minimum_number = 11\n",
        "...\n",
        "minimum_number = 11\n",
        "\"\"\"\n",
        "\n",
        "my_list = [2, -4, 1, 5, 3, 2, 0]\n",
        "# print(min(my_list), max(my_list))\n",
        "\n",
        "minimum_number = my_list[0]\n",
        "\n",
        "for num in my_list:\n",
        "    if num < minimum_number:\n",
        "        minimum_number = num\n",
        "\n",
        "print(\"The minimum number in my_list is:\", minimum_number)"
      ]
    },
    {
      "cell_type": "code",
      "execution_count": 13,
      "metadata": {
        "colab": {
          "base_uri": "https://localhost:8080/"
        },
        "id": "1zGk2MNpng-n",
        "outputId": "3eede8df-0291-4016-a6e6-68e64e371caa"
      },
      "outputs": [
        {
          "name": "stdout",
          "output_type": "stream",
          "text": [
            "The max val of my_list is: 9\n"
          ]
        }
      ],
      "source": [
        "my_list = [2, 4, 1, 5, 3, 2, -3, 9, 0]\n",
        "\n",
        "maximum_number = my_list[0]\n",
        "\n",
        "for number in my_list:\n",
        "    if number > maximum_number:\n",
        "        maximum_number = number\n",
        "\n",
        "print(\"The max val of my_list is:\", maximum_number)"
      ]
    },
    {
      "cell_type": "code",
      "execution_count": 16,
      "metadata": {
        "colab": {
          "base_uri": "https://localhost:8080/"
        },
        "id": "nRfkmEicqhev",
        "outputId": "57a3351c-ea84-4073-a567-ae03283354c7"
      },
      "outputs": [
        {
          "name": "stdout",
          "output_type": "stream",
          "text": [
            "5\n"
          ]
        }
      ],
      "source": [
        "\"\"\"\n",
        "my_list = [0,1,2,3,4]\n",
        "num_of_evens -> 3\n",
        "num_of_odds -> 2\n",
        "\"\"\"\n",
        "\n",
        "my_list = [0, 1, 2, 3, 4, 0, 8]\n",
        "num_of_evens = 0\n",
        "\n",
        "for num in my_list:\n",
        "    if num % 2 == 0:\n",
        "        num_of_evens += 1\n",
        "\n",
        "print(num_of_evens)"
      ]
    },
    {
      "cell_type": "code",
      "execution_count": 18,
      "metadata": {
        "colab": {
          "base_uri": "https://localhost:8080/"
        },
        "id": "aIgl_UERr_DL",
        "outputId": "10dcf551-858f-4b8f-cf41-64b03669d6ea"
      },
      "outputs": [
        {
          "name": "stdout",
          "output_type": "stream",
          "text": [
            "3\n"
          ]
        }
      ],
      "source": [
        "\"\"\"\n",
        "my_list = [0,1,2,3,4]\n",
        "num_of_odds -> 2\n",
        "\"\"\"\n",
        "\n",
        "my_list = [0, 1, 2, 3, 1, 0, 8]\n",
        "num_of_odds = 0\n",
        "\n",
        "for num in my_list:\n",
        "    if num % 2 == 1:\n",
        "        num_of_odds += 1\n",
        "\n",
        "print(num_of_odds)"
      ]
    },
    {
      "cell_type": "code",
      "execution_count": 20,
      "metadata": {
        "colab": {
          "base_uri": "https://localhost:8080/"
        },
        "id": "RpddoxYysQuq",
        "outputId": "7881465c-cb34-4211-de9b-b56a2e9fb133"
      },
      "outputs": [
        {
          "name": "stdout",
          "output_type": "stream",
          "text": [
            "2.0\n"
          ]
        }
      ],
      "source": [
        "\"\"\"\n",
        "my_list = [1, 2, 5, 0]\n",
        "\n",
        "avg -> 2\n",
        "\"\"\"\n",
        "\n",
        "my_list = [1, 2, 5, 0]\n",
        "\n",
        "total = 0\n",
        "for number in my_list:\n",
        "    total += number\n",
        "\n",
        "average = total / len(my_list)\n",
        "print(average)"
      ]
    },
    {
      "cell_type": "code",
      "execution_count": null,
      "metadata": {
        "colab": {
          "base_uri": "https://localhost:8080/"
        },
        "id": "kxdkew7ds_zY",
        "outputId": "56a871b2-ea8f-42f0-cdad-45497d5a6593"
      },
      "outputs": [
        {
          "name": "stdout",
          "output_type": "stream",
          "text": [
            "Enter a number: 45\n",
            "Enter a number: 9\n",
            "Enter a number: 4\n",
            "Enter a number: 12\n",
            "user entered: [2, 2, 45, 9, 4, 12]\n",
            "avg: 12.333333333333334\n"
          ]
        }
      ],
      "source": [
        "my_list = []\n",
        "\n",
        "for i in range(4):  # runs 4 times\n",
        "    num = int(input(\"Enter a number: \"))\n",
        "    my_list.append(num)\n",
        "\n",
        "print(\"user entered:\", my_list)\n",
        "\n",
        "total = 0\n",
        "for number in my_list:\n",
        "    total += number\n",
        "\n",
        "average = total / len(my_list)\n",
        "print(\"avg:\", average)"
      ]
    },
    {
      "cell_type": "code",
      "execution_count": 25,
      "metadata": {
        "colab": {
          "base_uri": "https://localhost:8080/"
        },
        "id": "NdWlJU0It3CG",
        "outputId": "7305457b-8933-4864-d37e-2ce385cad7ef"
      },
      "outputs": [
        {
          "name": "stdout",
          "output_type": "stream",
          "text": [
            "4 2  \n",
            "[4, 2]\n"
          ]
        }
      ],
      "source": [
        "\"\"\"\n",
        "positive numbers\n",
        "my_list = [4, -2, 2, -1, 0] -> 4, 2, 0\n",
        "\"\"\"\n",
        "\n",
        "my_list = [4, -2, 2, -1, 0]\n",
        "positive_nums = []\n",
        "\n",
        "for number in my_list:\n",
        "    if number > 0:\n",
        "        positive_nums.append(number)\n",
        "        print(number, end=\" \")\n",
        "\n",
        "print(\" \")\n",
        "print(positive_nums)"
      ]
    },
    {
      "cell_type": "code",
      "execution_count": null,
      "metadata": {
        "colab": {
          "base_uri": "https://localhost:8080/"
        },
        "id": "X2ziLm6jxdBv",
        "outputId": "6fbb1963-3e9f-4c84-fb63-a793d1c6aae8"
      },
      "outputs": [
        {
          "name": "stdout",
          "output_type": "stream",
          "text": [
            "1\n",
            "3\n",
            "2\n",
            "1\n",
            "3\n",
            "2\n",
            "1\n"
          ]
        }
      ],
      "source": [
        "\"\"\"\n",
        "my_list = [1,2,3]\n",
        "reverse a list\n",
        "reversed_list = [3,2,1]\n",
        "\"\"\"\n",
        "my_list = [1, 2, 3]\n",
        "print(my_list[0])\n",
        "print(my_list[-1])\n",
        "print(my_list[-2])\n",
        "print(my_list[-3])\n",
        "\n",
        "print(my_list[2])\n",
        "print(my_list[1])\n",
        "print(my_list[0])"
      ]
    },
    {
      "cell_type": "code",
      "execution_count": null,
      "metadata": {
        "colab": {
          "base_uri": "https://localhost:8080/"
        },
        "id": "M4tdsbSXx_1r",
        "outputId": "f35d83b0-6788-4e2f-8f64-4dcddeef7e6d"
      },
      "outputs": [
        {
          "name": "stdout",
          "output_type": "stream",
          "text": [
            "0\n",
            "-1\n",
            "3\n",
            "2\n",
            "1\n"
          ]
        }
      ],
      "source": [
        "my_list = [1, 2, 3, -1, 0]\n",
        "\n",
        "n_elems = len(my_list)  # n_elems = 5; my_list[-1]; my_list[4]\n",
        "\n",
        "for i in range(n_elems):\n",
        "    print(my_list[n_elems - i - 1])"
      ]
    },
    {
      "cell_type": "code",
      "execution_count": 36,
      "metadata": {
        "colab": {
          "base_uri": "https://localhost:8080/"
        },
        "id": "DDqmX_quzOt2",
        "outputId": "8ad2e755-77a5-4eb8-ebb1-69d22f9a287c"
      },
      "outputs": [
        {
          "name": "stdout",
          "output_type": "stream",
          "text": [
            "24\n"
          ]
        }
      ],
      "source": [
        "\"\"\"\n",
        "my_list = [2, 3, 4]\n",
        "factorials = [2!, 3!, 4!] == [2, 6, 24]\n",
        "\n",
        "3! = 1 * 2 * 3\n",
        "\"\"\"\n",
        "\n",
        "# 3!\n",
        "n = 4\n",
        "product = 1\n",
        "for i in range(1, n + 1):\n",
        "    product = product * i\n",
        "\n",
        "print(product)"
      ]
    },
    {
      "cell_type": "code",
      "execution_count": 40,
      "metadata": {
        "colab": {
          "base_uri": "https://localhost:8080/"
        },
        "id": "qdkAD6qU0R-C",
        "outputId": "dc17db0c-1fc5-476b-afa0-0715e3443661"
      },
      "outputs": [
        {
          "name": "stdout",
          "output_type": "stream",
          "text": [
            "[2, 6, 24, 120, 720]\n"
          ]
        }
      ],
      "source": [
        "my_list = [2, 3, 4, 5, 6]\n",
        "factorials = []\n",
        "\n",
        "for number in my_list:\n",
        "    factorial = 1\n",
        "    for i in range(1, number + 1):\n",
        "        factorial = factorial * i\n",
        "    factorials.append(factorial)\n",
        "\n",
        "print(factorials)"
      ]
    },
    {
      "cell_type": "code",
      "execution_count": null,
      "metadata": {
        "colab": {
          "base_uri": "https://localhost:8080/"
        },
        "id": "4RQdxYHj1Dsd",
        "outputId": "c0016ea3-219e-42fa-8093-d837b53b454d"
      },
      "outputs": [
        {
          "name": "stdout",
          "output_type": "stream",
          "text": [
            "True\n"
          ]
        }
      ],
      "source": [
        "\"\"\"\n",
        "identical lists\n",
        "l_1 = [1,2,3], l_2 = [1,2,3] -> True\n",
        "l_1 = [1,2,3], l_2 = [1,2,4] -> False\n",
        "l_1 = [1,2,3], l_2 = [1,2,3,4] -> False\n",
        "\"\"\"\n",
        "\n",
        "l_1 = [1, 2, 3]\n",
        "l_2 = [1, 2, 3]\n",
        "\n",
        "print(l_1 == l_2)"
      ]
    },
    {
      "cell_type": "code",
      "execution_count": null,
      "metadata": {
        "colab": {
          "base_uri": "https://localhost:8080/"
        },
        "id": "FxNBUCgv1zqn",
        "outputId": "07a57702-9f9f-4cda-d804-a2f522363073"
      },
      "outputs": [
        {
          "name": "stdout",
          "output_type": "stream",
          "text": [
            "Not identical\n"
          ]
        }
      ],
      "source": [
        "l_1 = [1, 2, 3]\n",
        "l_2 = [1, 21, 3]\n",
        "\n",
        "if len(l_1) != len(l_2):\n",
        "    print(\"Not identical\")\n",
        "else:\n",
        "    # lists have the same number of elements\n",
        "    # check all elemnts are equal\n",
        "    is_identical = True\n",
        "    for i in range(len(l_1)):\n",
        "        if l_1[i] != l_2[i]:\n",
        "            is_identical = False\n",
        "            break\n",
        "\n",
        "    if is_identical:\n",
        "        print(\"Lists are identical\")\n",
        "    else:\n",
        "        print(\"Not identical\")"
      ]
    },
    {
      "cell_type": "code",
      "execution_count": null,
      "metadata": {
        "id": "-W4QRyzY2Fp3"
      },
      "outputs": [],
      "source": []
    }
  ],
  "metadata": {
    "colab": {
      "provenance": []
    },
    "kernelspec": {
      "display_name": "Python 3",
      "name": "python3"
    },
    "language_info": {
      "name": "python"
    }
  },
  "nbformat": 4,
  "nbformat_minor": 0
}
