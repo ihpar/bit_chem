{
  "cells": [
    {
      "cell_type": "code",
      "execution_count": 1,
      "metadata": {
        "colab": {
          "base_uri": "https://localhost:8080/"
        },
        "id": "jmJAZZdmcJ2z",
        "outputId": "fe27f255-a8ad-4017-b579-49e0c9dff9fe"
      },
      "outputs": [
        {
          "name": "stdout",
          "output_type": "stream",
          "text": [
            "1\n",
            "2\n",
            "3\n",
            "4\n",
            "5\n"
          ]
        }
      ],
      "source": [
        "print(1)\n",
        "print(2)\n",
        "print(3)\n",
        "print(4)\n",
        "print(5)"
      ]
    },
    {
      "cell_type": "code",
      "execution_count": 3,
      "metadata": {
        "colab": {
          "base_uri": "https://localhost:8080/"
        },
        "id": "_J_Qz5TNcUbx",
        "outputId": "fd54acda-fba7-4458-9e8e-1e222f1b6d12"
      },
      "outputs": [
        {
          "name": "stdout",
          "output_type": "stream",
          "text": [
            "1\n",
            "2\n",
            "3\n"
          ]
        }
      ],
      "source": [
        "# print numbers from 1 to 200\n",
        "\n",
        "number = 1\n",
        "print(number)\n",
        "number = number + 1\n",
        "print(number)\n",
        "number = number + 1\n",
        "print(number)"
      ]
    },
    {
      "cell_type": "code",
      "execution_count": null,
      "metadata": {
        "colab": {
          "base_uri": "https://localhost:8080/"
        },
        "id": "jtlM4xbkdKra",
        "outputId": "9f84f14f-2711-4d37-9625-a81cd3dbc202"
      },
      "outputs": [
        {
          "name": "stdout",
          "output_type": "stream",
          "text": [
            "1\n",
            "2\n",
            "3\n",
            "4\n",
            "5\n",
            "6\n",
            "7\n",
            "8\n",
            "9\n",
            "10\n",
            "11\n",
            "12\n",
            "13\n",
            "14\n",
            "15\n",
            "16\n",
            "17\n",
            "18\n",
            "19\n",
            "20\n"
          ]
        }
      ],
      "source": [
        "# print numbers from 1 to 20\n",
        "\n",
        "number = 1\n",
        "\n",
        "while number < 201:\n",
        "    print(number)\n",
        "    number = number + 1"
      ]
    },
    {
      "cell_type": "code",
      "execution_count": null,
      "metadata": {
        "colab": {
          "base_uri": "https://localhost:8080/"
        },
        "id": "p8nhQpbSdTun",
        "outputId": "ffb5caa8-97c2-4ad9-a399-85967cc8a2ac"
      },
      "outputs": [
        {
          "name": "stdout",
          "output_type": "stream",
          "text": [
            "6\n"
          ]
        }
      ],
      "source": [
        "a = 5\n",
        "a += 1  # a = a + 1\n",
        "print(a)"
      ]
    },
    {
      "cell_type": "code",
      "execution_count": null,
      "metadata": {
        "colab": {
          "base_uri": "https://localhost:8080/"
        },
        "id": "jj-jG3HreLQo",
        "outputId": "6561177b-e245-4fd2-b4d1-1fd55653f762"
      },
      "outputs": [
        {
          "name": "stdout",
          "output_type": "stream",
          "text": [
            "14\n"
          ]
        }
      ],
      "source": [
        "b = 7\n",
        "b *= 2  # b = b * 2\n",
        "print(b)"
      ]
    },
    {
      "cell_type": "code",
      "execution_count": null,
      "metadata": {
        "colab": {
          "base_uri": "https://localhost:8080/"
        },
        "id": "7x_aOck-etrE",
        "outputId": "56477e22-68d3-4eb0-f634-15eed191f3ae"
      },
      "outputs": [
        {
          "name": "stdout",
          "output_type": "stream",
          "text": [
            "1 2.0\n"
          ]
        }
      ],
      "source": [
        "c = 4\n",
        "c -= 3  # c = c - 3\n",
        "\n",
        "d = 6\n",
        "d /= 3  # d = d / 3\n",
        "\n",
        "print(c, d)"
      ]
    },
    {
      "cell_type": "code",
      "execution_count": null,
      "metadata": {
        "colab": {
          "base_uri": "https://localhost:8080/"
        },
        "id": "hNI26WqBe1eQ",
        "outputId": "50889f78-9f02-4b5c-ded9-f1da956ed96f"
      },
      "outputs": [
        {
          "name": "stdout",
          "output_type": "stream",
          "text": [
            "0\n",
            "2\n",
            "4\n",
            "6\n",
            "8\n",
            "10\n",
            "12\n",
            "14\n",
            "16\n",
            "18\n",
            "20\n"
          ]
        }
      ],
      "source": [
        "# print even numbers between 0 - 20: 0, 2, 4, 6, ..., 20\n",
        "\n",
        "number = 0\n",
        "\n",
        "while number < 21:\n",
        "    print(number)\n",
        "    number += 2"
      ]
    },
    {
      "cell_type": "code",
      "execution_count": null,
      "metadata": {
        "colab": {
          "base_uri": "https://localhost:8080/"
        },
        "id": "mfcQ2W1VfWQV",
        "outputId": "0ccec3c1-595b-4f8f-987e-ed7db2675549"
      },
      "outputs": [
        {
          "name": "stdout",
          "output_type": "stream",
          "text": [
            "0\n",
            "2\n",
            "4\n",
            "6\n",
            "8\n",
            "10\n",
            "12\n",
            "14\n",
            "16\n",
            "18\n",
            "20\n"
          ]
        }
      ],
      "source": [
        "# print even numbers between 0 - 20: 0, 2, 4, 6, ..., 20\n",
        "\n",
        "number = 0\n",
        "\n",
        "while number < 21:\n",
        "    if number % 2 == 0:\n",
        "        print(number)\n",
        "    number += 1"
      ]
    },
    {
      "cell_type": "code",
      "execution_count": null,
      "metadata": {
        "colab": {
          "base_uri": "https://localhost:8080/"
        },
        "id": "StNQCWTwhr15",
        "outputId": "75e3a92c-6563-4996-9598-2fcd576434c6"
      },
      "outputs": [
        {
          "name": "stdout",
          "output_type": "stream",
          "text": [
            "5050\n"
          ]
        }
      ],
      "source": [
        "\"\"\"\n",
        "number sum\n",
        "1       0\n",
        "2       1\n",
        "3       3\n",
        "4       6\n",
        "5       10\n",
        "...\n",
        "\"\"\"\n",
        "# sum of numbers between 1-100\n",
        "\n",
        "# 1 + 2 + 3 + ... + 100\n",
        "\n",
        "number = 1\n",
        "sum = 0\n",
        "\n",
        "while number < 101:\n",
        "    sum = sum + number\n",
        "    number += 1\n",
        "\n",
        "print(sum)"
      ]
    },
    {
      "cell_type": "code",
      "execution_count": null,
      "metadata": {
        "colab": {
          "base_uri": "https://localhost:8080/"
        },
        "id": "QgJaTrKyiYsi",
        "outputId": "7e846463-71f4-4530-b835-17ca39edadea"
      },
      "outputs": [
        {
          "name": "stdout",
          "output_type": "stream",
          "text": [
            "3628800\n"
          ]
        }
      ],
      "source": [
        "# product of 1 - 10 -> 10!\n",
        "\"\"\"\n",
        "number product\n",
        "1       1\n",
        "2       1\n",
        "3       2\n",
        "4       6\n",
        "...\n",
        "\"\"\"\n",
        "\n",
        "number = 1\n",
        "product = 1\n",
        "\n",
        "while number < 11:\n",
        "    product = product * number\n",
        "    number += 1\n",
        "\n",
        "print(product)"
      ]
    },
    {
      "cell_type": "code",
      "execution_count": null,
      "metadata": {
        "colab": {
          "base_uri": "https://localhost:8080/"
        },
        "id": "v1IRQJvsm-OK",
        "outputId": "15630d7c-b80e-44ed-df0b-44fc76d0c1cf"
      },
      "outputs": [
        {
          "name": "stdout",
          "output_type": "stream",
          "text": [
            "*\n",
            "x\n",
            "a-b\n"
          ]
        }
      ],
      "source": [
        "# n = 3 -> * * *\n",
        "# n = 5 -> * * * * *\n",
        "print(\"*\")\n",
        "print(\"x\")\n",
        "\n",
        "print(\"a\", end=\"-\")  # \\n\n",
        "print(\"b\")"
      ]
    },
    {
      "cell_type": "code",
      "execution_count": null,
      "metadata": {
        "colab": {
          "base_uri": "https://localhost:8080/"
        },
        "id": "LDJsydmAn_Ue",
        "outputId": "b24f8411-03f3-42e2-99ee-3f6e1e787083"
      },
      "outputs": [
        {
          "name": "stdout",
          "output_type": "stream",
          "text": [
            "* * * * * * * * * * "
          ]
        }
      ],
      "source": [
        "i = 0\n",
        "while i < 10:\n",
        "    print(\"*\", end=\" \")\n",
        "    i += 1"
      ]
    },
    {
      "cell_type": "code",
      "execution_count": null,
      "metadata": {
        "colab": {
          "base_uri": "https://localhost:8080/"
        },
        "id": "F-Ze_5DFpF5I",
        "outputId": "77179292-9d39-47c4-b884-a5b8c29b6fc5"
      },
      "outputs": [
        {
          "name": "stdout",
          "output_type": "stream",
          "text": [
            "Enter a number: 12\n",
            "Enter a number: 2\n",
            "Enter a number: 3\n",
            "Enter a number: 5\n",
            "Enter a number: q\n",
            "22\n"
          ]
        }
      ],
      "source": [
        "# we are going to ask the user for numbers\n",
        "# whenever user enters \"q\" we will quit asking for new numbers and\n",
        "# calculate the sum of all numbers entered by the user.\n",
        "sum = 0\n",
        "while True:\n",
        "    symbol = input(\"Enter a number: \")  # string\n",
        "    if symbol == \"q\":\n",
        "        break\n",
        "\n",
        "    number = int(symbol)\n",
        "    sum = sum + number\n",
        "\n",
        "print(sum)"
      ]
    },
    {
      "cell_type": "code",
      "execution_count": null,
      "metadata": {
        "id": "h0vS99o9p44b"
      },
      "outputs": [],
      "source": []
    }
  ],
  "metadata": {
    "colab": {
      "provenance": []
    },
    "kernelspec": {
      "display_name": "Python 3",
      "name": "python3"
    },
    "language_info": {
      "name": "python"
    }
  },
  "nbformat": 4,
  "nbformat_minor": 0
}
