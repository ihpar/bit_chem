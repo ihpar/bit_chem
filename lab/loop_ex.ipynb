{
  "cells": [
    {
      "cell_type": "code",
      "execution_count": 9,
      "metadata": {
        "colab": {
          "base_uri": "https://localhost:8080/"
        },
        "id": "3TrQw-hLf9xm",
        "outputId": "a09a4224-1349-4aad-8e64-446ff0c39839"
      },
      "outputs": [
        {
          "name": "stdout",
          "output_type": "stream",
          "text": [
            "* * * * * * * * \n",
            "*             * \n",
            "*             * \n",
            "*             * \n",
            "*             * \n",
            "* * * * * * * * \n"
          ]
        }
      ],
      "source": [
        "\"\"\"\n",
        "h = 4, w = 5\n",
        "\n",
        "* * * * *\n",
        "*       *\n",
        "*       *\n",
        "* * * * *\n",
        "\"\"\"\n",
        "w = 8\n",
        "h = 6\n",
        "\n",
        "for i in range(h):\n",
        "    if i == 0 or i == h-1:\n",
        "        for j in range(w):\n",
        "            print(\"*\", end=\" \")\n",
        "    else:\n",
        "        for j in range(w):\n",
        "            if j == 0 or j == w-1:\n",
        "                print(\"*\", end=\" \")\n",
        "            else:\n",
        "                print(\" \", end=\" \")\n",
        "\n",
        "    print(\"\")"
      ]
    },
    {
      "cell_type": "code",
      "execution_count": null,
      "metadata": {
        "colab": {
          "base_uri": "https://localhost:8080/"
        },
        "id": "8eiljVYUgeo5",
        "outputId": "a97d4297-fc2c-4de0-c367-84d597c27ee0"
      },
      "outputs": [
        {
          "name": "stdout",
          "output_type": "stream",
          "text": [
            "* \n",
            "* * \n",
            "* * * \n",
            "* * * * \n",
            "* * * * * \n",
            "* * * * * * \n"
          ]
        }
      ],
      "source": [
        "\"\"\"\n",
        "l = 4\n",
        "\n",
        "*\n",
        "* *\n",
        "* * *\n",
        "* * * *\n",
        "\n",
        "*\n",
        "* *\n",
        "*   *\n",
        "*     *\n",
        "*       *\n",
        "* * * * * *\n",
        "\"\"\"\n",
        "l = 6\n",
        "for row in range(1, l+1):\n",
        "    for j in range(row):\n",
        "        print(\"*\", end=\" \")\n",
        "\n",
        "    print(\"\")"
      ]
    },
    {
      "cell_type": "code",
      "execution_count": null,
      "metadata": {
        "colab": {
          "base_uri": "https://localhost:8080/"
        },
        "id": "xMOOB0OkjPv5",
        "outputId": "3d840bac-a289-4712-dda3-653711c8d230"
      },
      "outputs": [
        {
          "name": "stdout",
          "output_type": "stream",
          "text": [
            "1  ->  1\n",
            "2  ->  3\n",
            "3  ->  6\n",
            "4  ->  10\n",
            "5  ->  15\n"
          ]
        }
      ],
      "source": [
        "\"\"\"\n",
        "num = 5\n",
        "\n",
        "1 -> 1\n",
        "2 -> 3\n",
        "3 -> 6\n",
        "4 -> 10\n",
        "5 -> 15\n",
        "\n",
        "1 -> 1\n",
        "2 -> 2\n",
        "3 -> 6\n",
        "4 -> 24\n",
        "...\n",
        "\"\"\"\n",
        "\n",
        "num = 5\n",
        "\n",
        "for curr_row in range(1, num+1):\n",
        "    total = 0\n",
        "    for n in range(1, curr_row+1):\n",
        "        total += n\n",
        "\n",
        "    print(curr_row, \" -> \", total)"
      ]
    },
    {
      "cell_type": "code",
      "execution_count": null,
      "metadata": {
        "colab": {
          "base_uri": "https://localhost:8080/"
        },
        "id": "Z0viiQJmlD1C",
        "outputId": "a4e5ef81-1208-42d0-81e6-3c1a9100ac06"
      },
      "outputs": [
        {
          "name": "stdout",
          "output_type": "stream",
          "text": [
            "        * \n",
            "      * * * \n",
            "    * * * * * \n",
            "  * * * * * * * \n",
            "* * * * * * * * * \n",
            "  * * * * * * * \n",
            "    * * * * * \n",
            "      * * * \n",
            "        * \n"
          ]
        }
      ],
      "source": [
        "\"\"\"\n",
        "l = 5\n",
        "\n",
        "    *      row:1 -> 2sp + 1*\n",
        "  * * *    row:2 -> 1ps + 3*\n",
        "* * * * *  row:3 -> 0sp + 5*\n",
        "  * * *\n",
        "    *\n",
        "\n",
        "\"\"\"\n",
        "l = 9\n",
        "max_row = (l + 1) // 2\n",
        "num_stars = 1\n",
        "# print the upper half of the diamond shape.\n",
        "for row in range(1, max_row+1):\n",
        "    num_sp = max_row - row\n",
        "\n",
        "    for col in range(num_stars + num_sp):\n",
        "        if col < num_sp:\n",
        "            print(\" \", end=\" \")\n",
        "        else:\n",
        "            print(\"*\", end=\" \")\n",
        "    num_stars += 2\n",
        "    print(\"\")\n",
        "\n",
        "# print the lower half of the diamond shape.\n",
        "num_stars -= 2\n",
        "max_row = (l - 1) // 2\n",
        "for row in range(1, max_row+1):\n",
        "    num_sp = row\n",
        "    num_stars -= 2\n",
        "    for col in range(num_stars + num_sp):\n",
        "        if col < num_sp:\n",
        "            print(\" \", end=\" \")\n",
        "        else:\n",
        "            print(\"*\", end=\" \")\n",
        "\n",
        "    print(\"\")"
      ]
    },
    {
      "cell_type": "code",
      "execution_count": 47,
      "metadata": {
        "colab": {
          "base_uri": "https://localhost:8080/"
        },
        "id": "EWkvTy4Sp547",
        "outputId": "a8fcc75a-9de1-4797-9ccf-bfa35f91f8a5"
      },
      "outputs": [
        {
          "name": "stdout",
          "output_type": "stream",
          "text": [
            "2\n",
            "3\n",
            "5\n",
            "8\n"
          ]
        }
      ],
      "source": [
        "\"\"\"\n",
        "n = 7\n",
        "1, 1, 2, 3, 5, 8, 13\n",
        "\"\"\"\n",
        "\n",
        "first = 1\n",
        "second = 1\n",
        "curr = first + second\n",
        "print(curr)\n",
        "\n",
        "first = second\n",
        "second = curr\n",
        "curr = first + second\n",
        "print(curr)\n",
        "\n",
        "first = second\n",
        "second = curr\n",
        "curr = first + second\n",
        "print(curr)\n",
        "\n",
        "first = second\n",
        "second = curr\n",
        "curr = first + second\n",
        "print(curr)"
      ]
    },
    {
      "cell_type": "code",
      "execution_count": 56,
      "metadata": {
        "colab": {
          "base_uri": "https://localhost:8080/"
        },
        "id": "xp6kWm0Et6_I",
        "outputId": "41fb0f87-e7e4-4c26-8251-e26f343be3ef"
      },
      "outputs": [
        {
          "name": "stdout",
          "output_type": "stream",
          "text": [
            "3\n"
          ]
        }
      ],
      "source": [
        "\"\"\"\n",
        "n = 7\n",
        "1, 1, 2, 3, 5, 8, 13, 21, 34\n",
        "\"\"\"\n",
        "\n",
        "first = 1\n",
        "second = 1\n",
        "curr = first + second\n",
        "\n",
        "n = 4\n",
        "\n",
        "if n == 1:\n",
        "    print(1)\n",
        "elif n == 2:\n",
        "    print(1)\n",
        "else:\n",
        "    for i in range(3, n):\n",
        "        first = second\n",
        "        second = curr\n",
        "        curr = first + second\n",
        "    print(curr)"
      ]
    },
    {
      "cell_type": "code",
      "execution_count": null,
      "metadata": {
        "colab": {
          "base_uri": "https://localhost:8080/"
        },
        "id": "b92dXw-Vu9cS",
        "outputId": "37ac4d67-433e-402d-fb12-109245f6541a"
      },
      "outputs": [
        {
          "name": "stdout",
          "output_type": "stream",
          "text": [
            "x         x \n",
            "  x     x \n",
            "    x x \n"
          ]
        }
      ],
      "source": [
        "\"\"\"\n",
        "x   x  row 1: 0sp + x + 3sp + x : (r - 1)sp + x + hsp + x\n",
        " x x   row 2: 1sp + x + 1sp + x : (r - 1)sp + x + (h-2)sp + x\n",
        " x x   row 4: 1sp + x + 1sp + x\n",
        "x   x  row 5: 0sp + x + 3sp + x\n",
        "\"\"\"\n",
        "\n",
        "h = 4\n",
        "# prints the upper half\n",
        "num_sp_between = h\n",
        "for row in range(1, h):\n",
        "    num_lsp = row - 1\n",
        "    for j in range(num_lsp):\n",
        "        print(\" \", end=\" \")\n",
        "    print(\"x\", end=\" \")\n",
        "    for j in range(num_sp_between):\n",
        "        print(\" \", end=\" \")\n",
        "    print(\"x\", end=\" \")\n",
        "    num_sp_between -= 2\n",
        "    print(\"\")"
      ]
    },
    {
      "cell_type": "code",
      "execution_count": null,
      "metadata": {
        "id": "1j4dK06cxwB0"
      },
      "outputs": [],
      "source": []
    }
  ],
  "metadata": {
    "colab": {
      "provenance": []
    },
    "kernelspec": {
      "display_name": "Python 3",
      "name": "python3"
    },
    "language_info": {
      "name": "python"
    }
  },
  "nbformat": 4,
  "nbformat_minor": 0
}
