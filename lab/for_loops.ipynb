{
  "cells": [
    {
      "cell_type": "code",
      "execution_count": 1,
      "metadata": {
        "colab": {
          "base_uri": "https://localhost:8080/"
        },
        "id": "1j6KjnXdd2GJ",
        "outputId": "1eaa4bf8-804f-4bf1-b4f5-835becf822f4"
      },
      "outputs": [
        {
          "name": "stdout",
          "output_type": "stream",
          "text": [
            "range(0, 5)\n"
          ]
        }
      ],
      "source": [
        "print(range(5))"
      ]
    },
    {
      "cell_type": "code",
      "execution_count": null,
      "metadata": {
        "colab": {
          "base_uri": "https://localhost:8080/"
        },
        "id": "qU-3jRWzd8dI",
        "outputId": "99d4b260-558d-4a0a-968d-ef70948c5214"
      },
      "outputs": [
        {
          "name": "stdout",
          "output_type": "stream",
          "text": [
            "0\n",
            "1\n",
            "2\n",
            "3\n",
            "4\n",
            "5\n"
          ]
        }
      ],
      "source": [
        "for number in range(6):\n",
        "    print(number)"
      ]
    },
    {
      "cell_type": "code",
      "execution_count": null,
      "metadata": {
        "colab": {
          "base_uri": "https://localhost:8080/"
        },
        "id": "GV9R6kPceIXy",
        "outputId": "fc4d60cb-a055-4bdf-e3b4-a19589c4f68b"
      },
      "outputs": [
        {
          "name": "stdout",
          "output_type": "stream",
          "text": [
            "3\n",
            "7\n",
            "11\n"
          ]
        }
      ],
      "source": [
        "for i in range(3, 15, 4):\n",
        "    print(i)"
      ]
    },
    {
      "cell_type": "code",
      "execution_count": null,
      "metadata": {
        "colab": {
          "base_uri": "https://localhost:8080/"
        },
        "id": "vaHiWZbUedI9",
        "outputId": "e3518877-7982-49de-b50b-46314ddef2c2"
      },
      "outputs": [
        {
          "name": "stdout",
          "output_type": "stream",
          "text": [
            "0\n",
            "1\n",
            "2\n",
            "3\n",
            "4\n",
            "5\n"
          ]
        }
      ],
      "source": [
        "for number in range(0, 6, 1):\n",
        "    print(number)"
      ]
    },
    {
      "cell_type": "code",
      "execution_count": 7,
      "metadata": {
        "colab": {
          "base_uri": "https://localhost:8080/"
        },
        "id": "fS4HhK8ieopE",
        "outputId": "c3680681-b19a-4ded-ca61-e6997a30ef62"
      },
      "outputs": [
        {
          "name": "stdout",
          "output_type": "stream",
          "text": [
            "0\n",
            "1\n",
            "2\n",
            "3\n",
            "4\n",
            "5\n",
            "6\n",
            "7\n",
            "8\n",
            "9\n",
            "10\n"
          ]
        }
      ],
      "source": [
        "# print numbers 0 .. 10\n",
        "\n",
        "for a in range(0, 11, 1):\n",
        "    print(a)"
      ]
    },
    {
      "cell_type": "code",
      "execution_count": 8,
      "metadata": {
        "colab": {
          "base_uri": "https://localhost:8080/"
        },
        "id": "qMNRPTcve9gP",
        "outputId": "bb234cda-24bd-46fe-9597-2fa78676e3b2"
      },
      "outputs": [
        {
          "name": "stdout",
          "output_type": "stream",
          "text": [
            "0\n",
            "1\n",
            "2\n",
            "3\n",
            "4\n",
            "5\n",
            "6\n",
            "7\n",
            "8\n",
            "9\n",
            "10\n"
          ]
        }
      ],
      "source": [
        "# print numbers 0 .. 10\n",
        "\n",
        "for a in range(11):\n",
        "    print(a)"
      ]
    },
    {
      "cell_type": "code",
      "execution_count": 9,
      "metadata": {
        "colab": {
          "base_uri": "https://localhost:8080/"
        },
        "id": "2RvSpr23fE_G",
        "outputId": "24badc8a-7e87-4320-d198-4d480e7f55fe"
      },
      "outputs": [
        {
          "name": "stdout",
          "output_type": "stream",
          "text": [
            "0\n",
            "2\n",
            "4\n",
            "6\n",
            "8\n",
            "10\n",
            "12\n",
            "14\n",
            "16\n",
            "18\n",
            "20\n"
          ]
        }
      ],
      "source": [
        "# print even numbers 0 .. 20\n",
        "\n",
        "for num in range(0, 21, 2):\n",
        "    print(num)"
      ]
    },
    {
      "cell_type": "code",
      "execution_count": null,
      "metadata": {
        "colab": {
          "base_uri": "https://localhost:8080/"
        },
        "id": "F3xA7jQufUuw",
        "outputId": "65f01c21-8976-4664-90fd-0f2fafdea6f4"
      },
      "outputs": [
        {
          "name": "stdout",
          "output_type": "stream",
          "text": [
            "55\n"
          ]
        }
      ],
      "source": [
        "# find the sum of 1 .. 10\n",
        "total = 0\n",
        "for x in range(1, 11):\n",
        "    total += x  # total = (total + x)\n",
        "\n",
        "print(total)"
      ]
    },
    {
      "cell_type": "code",
      "execution_count": null,
      "metadata": {
        "colab": {
          "base_uri": "https://localhost:8080/"
        },
        "id": "_wvaJ5PgfsQx",
        "outputId": "9ba60d35-18dc-4ed2-a34d-e69ea913f74f"
      },
      "outputs": [
        {
          "name": "stdout",
          "output_type": "stream",
          "text": [
            "3628800\n"
          ]
        }
      ],
      "source": [
        "# find the product of 1 .. 10 -> 10!\n",
        "total = 1\n",
        "\n",
        "for x in range(1, 11):\n",
        "    total *= x  # total = (total * x)\n",
        "\n",
        "print(total)"
      ]
    },
    {
      "cell_type": "code",
      "execution_count": 14,
      "metadata": {
        "colab": {
          "base_uri": "https://localhost:8080/"
        },
        "id": "c0SLG5UMgi7h",
        "outputId": "da2973e3-c585-4361-c3f8-d36175768a89"
      },
      "outputs": [
        {
          "name": "stdout",
          "output_type": "stream",
          "text": [
            "a b\n",
            "c\n"
          ]
        }
      ],
      "source": [
        "# print * side by side n times. n = 3 -> * * *, n = 5 -> * * * * *\n",
        "\n",
        "print(\"a\", end=\" \")\n",
        "print(\"b\")\n",
        "print(\"c\")"
      ]
    },
    {
      "cell_type": "code",
      "execution_count": 20,
      "metadata": {
        "colab": {
          "base_uri": "https://localhost:8080/"
        },
        "id": "JqZmwO4hhErQ",
        "outputId": "3e79500e-9707-4171-b5fe-d6dce8ba12fc"
      },
      "outputs": [
        {
          "name": "stdout",
          "output_type": "stream",
          "text": [
            "* * * * * "
          ]
        }
      ],
      "source": [
        "n = 5\n",
        "\n",
        "for i in range(n):\n",
        "    print(\"*\", end=\" \")"
      ]
    },
    {
      "cell_type": "code",
      "execution_count": 23,
      "metadata": {
        "colab": {
          "base_uri": "https://localhost:8080/"
        },
        "id": "1AOgYN_Ghadb",
        "outputId": "5e59b39a-7485-4228-d693-5e143668c077"
      },
      "outputs": [
        {
          "name": "stdout",
          "output_type": "stream",
          "text": [
            "h, e, l, l, o, "
          ]
        }
      ],
      "source": [
        "# print the letters of a word\n",
        "# hello -> h e l l o\n",
        "\n",
        "for letter in \"hello\":\n",
        "    print(letter, end=\", \")"
      ]
    },
    {
      "cell_type": "code",
      "execution_count": 27,
      "metadata": {
        "colab": {
          "base_uri": "https://localhost:8080/"
        },
        "id": "-9lKd3xTiBl4",
        "outputId": "b55a1c97-55e9-4b69-a174-4367aa8de97e"
      },
      "outputs": [
        {
          "name": "stdout",
          "output_type": "stream",
          "text": [
            "* * * * * * * * * * * * * * * * * * * * * * * * * \n",
            "* * * * * * * * * * * * * * * * * * * * * * * * * \n",
            "* * * * * * * * * * * * * * * * * * * * * * * * * "
          ]
        }
      ],
      "source": [
        "# print a rectangle of *'s with dimension of h x w\n",
        "\n",
        "\"\"\"\n",
        "h = 3\n",
        "w = 5\n",
        "\n",
        "* * * * *\n",
        "* * * * *\n",
        "* * * * *\n",
        "\"\"\"\n",
        "h = 35\n",
        "w = 25\n",
        "\n",
        "for a in range(w):\n",
        "    print(\"*\", end=\" \")\n",
        "\n",
        "print(\"\")\n",
        "\n",
        "for a in range(w):\n",
        "    print(\"*\", end=\" \")\n",
        "\n",
        "print(\"\")\n",
        "\n",
        "for a in range(w):\n",
        "    print(\"*\", end=\" \")"
      ]
    },
    {
      "cell_type": "code",
      "execution_count": 28,
      "metadata": {
        "colab": {
          "base_uri": "https://localhost:8080/"
        },
        "id": "ceEMc3sFjD2r",
        "outputId": "5d9856d5-50dd-42e4-d77d-7f8494cd094c"
      },
      "outputs": [
        {
          "name": "stdout",
          "output_type": "stream",
          "text": [
            "0 0\n",
            "0 1\n",
            "0 2\n",
            "1 0\n",
            "1 1\n",
            "1 2\n",
            "2 0\n",
            "2 1\n",
            "2 2\n",
            "3 0\n",
            "3 1\n",
            "3 2\n"
          ]
        }
      ],
      "source": [
        "for i in range(4):\n",
        "    for j in range(3):\n",
        "        print(i, j)"
      ]
    },
    {
      "cell_type": "code",
      "execution_count": 33,
      "metadata": {
        "colab": {
          "base_uri": "https://localhost:8080/"
        },
        "id": "p0E7kFnYngyh",
        "outputId": "d3bf64a6-110c-47de-9e26-ff54100f54aa"
      },
      "outputs": [
        {
          "name": "stdout",
          "output_type": "stream",
          "text": [
            "i =  0\n",
            "  j =  0\n",
            "     k =  0\n",
            "     k =  1\n",
            "     k =  2\n",
            "     k =  3\n",
            "k is done\n",
            "  j =  1\n",
            "     k =  0\n",
            "     k =  1\n",
            "     k =  2\n",
            "     k =  3\n",
            "k is done\n",
            "j is done\n",
            "i =  1\n",
            "  j =  0\n",
            "     k =  0\n",
            "     k =  1\n",
            "     k =  2\n",
            "     k =  3\n",
            "k is done\n",
            "  j =  1\n",
            "     k =  0\n",
            "     k =  1\n",
            "     k =  2\n",
            "     k =  3\n",
            "k is done\n",
            "j is done\n",
            "i =  2\n",
            "  j =  0\n",
            "     k =  0\n",
            "     k =  1\n",
            "     k =  2\n",
            "     k =  3\n",
            "k is done\n",
            "  j =  1\n",
            "     k =  0\n",
            "     k =  1\n",
            "     k =  2\n",
            "     k =  3\n",
            "k is done\n",
            "j is done\n",
            "i is done\n"
          ]
        }
      ],
      "source": [
        "for i in range(3):\n",
        "    print(\"i = \", i)\n",
        "    for j in range(2):\n",
        "        print(\"  j = \", j)\n",
        "        for k in range(4):\n",
        "            print(\"     k = \", k)\n",
        "        print(\"k is done\")\n",
        "    print(\"j is done\")\n",
        "\n",
        "print(\"i is done\")"
      ]
    },
    {
      "cell_type": "code",
      "execution_count": 35,
      "metadata": {
        "colab": {
          "base_uri": "https://localhost:8080/"
        },
        "id": "ccPKGnfmnpER",
        "outputId": "9936ef71-ab84-4cd8-a423-35ddfe8eac58"
      },
      "outputs": [
        {
          "name": "stdout",
          "output_type": "stream",
          "text": [
            "* * * * * * * * * * * * * * * * * * * * * * * * * \n",
            "* * * * * * * * * * * * * * * * * * * * * * * * * \n",
            "* * * * * * * * * * * * * * * * * * * * * * * * * \n",
            "* * * * * * * * * * * * * * * * * * * * * * * * * \n",
            "* * * * * * * * * * * * * * * * * * * * * * * * * \n",
            "* * * * * * * * * * * * * * * * * * * * * * * * * \n",
            "* * * * * * * * * * * * * * * * * * * * * * * * * \n",
            "* * * * * * * * * * * * * * * * * * * * * * * * * \n",
            "* * * * * * * * * * * * * * * * * * * * * * * * * \n",
            "* * * * * * * * * * * * * * * * * * * * * * * * * \n",
            "* * * * * * * * * * * * * * * * * * * * * * * * * \n",
            "* * * * * * * * * * * * * * * * * * * * * * * * * \n",
            "* * * * * * * * * * * * * * * * * * * * * * * * * \n"
          ]
        }
      ],
      "source": [
        "# print a rectangle of *'s with dimension of h x w\n",
        "\n",
        "\"\"\"\n",
        "h = 3\n",
        "w = 5\n",
        "\n",
        "* * * * *\n",
        "* * * * *\n",
        "* * * * *\n",
        "\"\"\"\n",
        "height = 13\n",
        "width = 25\n",
        "\n",
        "for h in range(height):\n",
        "    for w in range(width):\n",
        "        print(\"*\", end=\" \")\n",
        "\n",
        "    print(\"\")"
      ]
    },
    {
      "cell_type": "code",
      "execution_count": 37,
      "metadata": {
        "colab": {
          "base_uri": "https://localhost:8080/"
        },
        "id": "QTY2t6CnpHbn",
        "outputId": "a2a2d6aa-fe46-4c97-990e-3c1ba238ed19"
      },
      "outputs": [
        {
          "name": "stdout",
          "output_type": "stream",
          "text": [
            "* * * \n",
            "* * * \n",
            "* * * \n",
            "* * * \n",
            "* * * \n"
          ]
        }
      ],
      "source": [
        "\"\"\"\n",
        "1 2 1 3\n",
        "0 2 5 6\n",
        "8 5 4 7\n",
        "\n",
        "3 x 4 matrix\n",
        "\"\"\"\n",
        "\n",
        "# this is the wrong solution\n",
        "height = 3\n",
        "width = 5\n",
        "\n",
        "for w in range(width):\n",
        "    for h in range(height):\n",
        "        print(\"*\", end=\" \")\n",
        "\n",
        "    print(\"\")"
      ]
    },
    {
      "cell_type": "code",
      "execution_count": 43,
      "metadata": {
        "colab": {
          "base_uri": "https://localhost:8080/"
        },
        "id": "tdYj-_CSpgkf",
        "outputId": "d82fcf50-23cd-473c-e2ba-0ce710fa015b"
      },
      "outputs": [
        {
          "name": "stdout",
          "output_type": "stream",
          "text": [
            "* * * * * * * * * * * * * * * \n",
            "* * * * * * * * * * * * * * * \n",
            "* * * * * * * * * * * * * * * \n",
            "* * * * * * * * * * * * * * * \n",
            "* * * * * * * * * * * * * * * \n"
          ]
        }
      ],
      "source": [
        "# print a rectangle of *'s with dimension of h x w\n",
        "\n",
        "\"\"\"\n",
        "h = 3\n",
        "w = 5\n",
        "\n",
        "* * * * *\n",
        "* * * * *\n",
        "* * * * *\n",
        "\"\"\"\n",
        "height = 5\n",
        "width = 15\n",
        "\n",
        "h = 0\n",
        "\n",
        "while h < height:\n",
        "    w = 0\n",
        "    while w < width:\n",
        "        print(\"*\", end=\" \")\n",
        "        w += 1\n",
        "    print(\"\")\n",
        "    h += 1"
      ]
    },
    {
      "cell_type": "code",
      "execution_count": 46,
      "metadata": {
        "colab": {
          "base_uri": "https://localhost:8080/"
        },
        "id": "gQz_IDJqqneI",
        "outputId": "708d4048-81e8-402d-f7c3-d7c506cb055b"
      },
      "outputs": [
        {
          "name": "stdout",
          "output_type": "stream",
          "text": [
            "0\n",
            "1\n",
            "2\n",
            "loop completed\n"
          ]
        }
      ],
      "source": [
        "for i in range(5):\n",
        "    if i == 3:\n",
        "        break\n",
        "    print(i)\n",
        "\n",
        "print(\"loop completed\")"
      ]
    },
    {
      "cell_type": "code",
      "execution_count": null,
      "metadata": {
        "colab": {
          "base_uri": "https://localhost:8080/"
        },
        "id": "XHY5dctprjSH",
        "outputId": "4d4c9102-9612-462b-effa-00525504e31e"
      },
      "outputs": [
        {
          "name": "stdout",
          "output_type": "stream",
          "text": [
            "1\n",
            "3\n",
            "5\n",
            "7\n",
            "9\n",
            "hello\n"
          ]
        }
      ],
      "source": [
        "for i in range(10):\n",
        "    if i % 2 == 0:\n",
        "        continue\n",
        "\n",
        "    print(i)\n",
        "\n",
        "print(\"hello\")"
      ]
    },
    {
      "cell_type": "code",
      "execution_count": null,
      "metadata": {
        "id": "vj2MrqY4sCYM"
      },
      "outputs": [],
      "source": [
        "\"\"\"\n",
        "print an empty rectange of *'s having h x w dims.\n",
        "\n",
        "h = 4, w = 5\n",
        "\n",
        "* * * * *\n",
        "*       *\n",
        "*       *\n",
        "* * * * *\n",
        "\"\"\""
      ]
    }
  ],
  "metadata": {
    "colab": {
      "provenance": []
    },
    "kernelspec": {
      "display_name": "Python 3",
      "name": "python3"
    },
    "language_info": {
      "name": "python"
    }
  },
  "nbformat": 4,
  "nbformat_minor": 0
}
