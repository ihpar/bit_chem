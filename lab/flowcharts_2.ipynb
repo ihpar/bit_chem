{
  "cells": [
    {
      "cell_type": "code",
      "execution_count": null,
      "metadata": {
        "colab": {
          "base_uri": "https://localhost:8080/"
        },
        "id": "SkY0pIFxXQSq",
        "outputId": "b32e689a-5d1e-42ab-c9f9-66120cd870ff"
      },
      "outputs": [
        {
          "name": "stdout",
          "output_type": "stream",
          "text": [
            "How are you feeling today?\n"
          ]
        }
      ],
      "source": [
        "print(\"How are you feeling today?\")"
      ]
    },
    {
      "cell_type": "code",
      "execution_count": null,
      "metadata": {
        "colab": {
          "base_uri": "https://localhost:8080/"
        },
        "id": "hN6MVAgQXjhr",
        "outputId": "51de498b-d75e-44eb-c77c-64f44f083c7b"
      },
      "outputs": [
        {
          "name": "stdout",
          "output_type": "stream",
          "text": [
            "ads\n"
          ]
        }
      ],
      "source": [
        "answer = input()"
      ]
    },
    {
      "cell_type": "code",
      "execution_count": null,
      "metadata": {
        "colab": {
          "base_uri": "https://localhost:8080/"
        },
        "id": "-26O47UVYFQE",
        "outputId": "c000f84b-92f5-4e9a-f0e6-7c7ec845d94e"
      },
      "outputs": [
        {
          "name": "stdout",
          "output_type": "stream",
          "text": [
            "good\n"
          ]
        }
      ],
      "source": [
        "print(answer)"
      ]
    },
    {
      "cell_type": "code",
      "execution_count": null,
      "metadata": {
        "colab": {
          "base_uri": "https://localhost:8080/"
        },
        "id": "v4KDVIE8YIQR",
        "outputId": "9d10a483-8948-486d-dbcf-376bc5b430b1"
      },
      "outputs": [
        {
          "name": "stdout",
          "output_type": "stream",
          "text": [
            "How are you feeling today?good\n"
          ]
        }
      ],
      "source": [
        "answer = input(\"How are you feeling today?\")"
      ]
    },
    {
      "cell_type": "code",
      "execution_count": null,
      "metadata": {
        "colab": {
          "base_uri": "https://localhost:8080/"
        },
        "id": "FSoalg8AYYbv",
        "outputId": "4ec71091-77c9-41dd-fb65-ed4f7c7c4499"
      },
      "outputs": [
        {
          "name": "stdout",
          "output_type": "stream",
          "text": [
            "A\n"
          ]
        }
      ],
      "source": [
        "if 3 < 5:\n",
        "    print(\"A\")"
      ]
    },
    {
      "cell_type": "code",
      "execution_count": null,
      "metadata": {
        "id": "xI2o4kbvY6Rt"
      },
      "outputs": [],
      "source": [
        "if 3 > 5:\n",
        "    print(\"B\")"
      ]
    },
    {
      "cell_type": "code",
      "execution_count": null,
      "metadata": {
        "colab": {
          "base_uri": "https://localhost:8080/"
        },
        "id": "ZD87nqtEY_pY",
        "outputId": "0feb61b3-8420-4d63-a6f4-2ec8e7151762"
      },
      "outputs": [
        {
          "name": "stdout",
          "output_type": "stream",
          "text": [
            "b\n"
          ]
        }
      ],
      "source": [
        "if 2 > 7:\n",
        "    print(\"a\")\n",
        "else:\n",
        "    print(\"b\")"
      ]
    },
    {
      "cell_type": "code",
      "execution_count": null,
      "metadata": {
        "colab": {
          "base_uri": "https://localhost:8080/"
        },
        "id": "LiXF64G3ZKnd",
        "outputId": "21c119e4-7c59-4c71-867b-20a5f4322bf3"
      },
      "outputs": [
        {
          "name": "stdout",
          "output_type": "stream",
          "text": [
            "a\n",
            "b\n",
            "7\n",
            "3.0\n"
          ]
        }
      ],
      "source": [
        "if 4 < 5:\n",
        "    print(\"a\")\n",
        "    print(\"b\")\n",
        "    c = 3 + 4\n",
        "    print(c)\n",
        "else:\n",
        "    print(\"d\")\n",
        "    x = 5 ** 2\n",
        "    print(x)\n",
        "\n",
        "y = 12 / 4\n",
        "print(y)"
      ]
    },
    {
      "cell_type": "code",
      "execution_count": null,
      "metadata": {
        "colab": {
          "base_uri": "https://localhost:8080/"
        },
        "id": "qB_pyakZaets",
        "outputId": "e4e726e5-d362-485d-dbcd-ae15bd43fcf5"
      },
      "outputs": [
        {
          "name": "stdout",
          "output_type": "stream",
          "text": [
            "How are you feeling today?bad\n",
            "Sorry to hear that.\n"
          ]
        }
      ],
      "source": [
        "# Exercise 1\n",
        "\n",
        "ans = input(\"How are you feeling today?\")\n",
        "\n",
        "if ans == \"good\":\n",
        "    print(\"Happy to heat that.\")\n",
        "else:\n",
        "    print(\"Sorry to hear that.\")"
      ]
    },
    {
      "cell_type": "code",
      "execution_count": null,
      "metadata": {
        "colab": {
          "base_uri": "https://localhost:8080/"
        },
        "id": "GBNCBU1SbElA",
        "outputId": "ba695fd8-a199-43ca-eede-b4be3347aea8"
      },
      "outputs": [
        {
          "name": "stdout",
          "output_type": "stream",
          "text": [
            "How are you feeling today?bad\n",
            "Sorry to hear that.\n"
          ]
        }
      ],
      "source": [
        "# Exercise 1\n",
        "\n",
        "ans = input(\"How are you feeling today?\")\n",
        "\n",
        "if ans == \"good\":\n",
        "    print(\"Happy to heat that.\")\n",
        "\n",
        "if ans == \"bad\":\n",
        "    print(\"Sorry to hear that.\")"
      ]
    },
    {
      "cell_type": "code",
      "execution_count": null,
      "metadata": {
        "colab": {
          "base_uri": "https://localhost:8080/"
        },
        "id": "ZIeIYwySbkFq",
        "outputId": "9fdff30f-7e62-4651-e6fb-2bba39963146"
      },
      "outputs": [
        {
          "name": "stdout",
          "output_type": "stream",
          "text": [
            "c\n"
          ]
        }
      ],
      "source": [
        "num = 5\n",
        "\n",
        "if num == 4:\n",
        "    print(\"a\")\n",
        "elif num == 3:\n",
        "    print(\"b\")\n",
        "elif num == 5:\n",
        "    print(\"c\")\n",
        "else:\n",
        "    print(\"number is not 4 or 3 or 5\")"
      ]
    },
    {
      "cell_type": "code",
      "execution_count": null,
      "metadata": {
        "colab": {
          "base_uri": "https://localhost:8080/"
        },
        "id": "DP6yYsSpcTUK",
        "outputId": "c9feb10d-334b-4d9c-e032-e25c8a263791"
      },
      "outputs": [
        {
          "name": "stdout",
          "output_type": "stream",
          "text": [
            "How are you feeling today?fine\n",
            "I don't know how to respond.\n"
          ]
        }
      ],
      "source": [
        "# Exercise 1\n",
        "\n",
        "ans = input(\"How are you feeling today?\")\n",
        "\n",
        "if ans == \"good\":\n",
        "    print(\"Happy to heat that.\")\n",
        "elif ans == \"bad\":\n",
        "    print(\"Sorry to hear that.\")\n",
        "else:\n",
        "    print(\"I don't know how to respond.\")"
      ]
    },
    {
      "cell_type": "code",
      "execution_count": null,
      "metadata": {
        "colab": {
          "base_uri": "https://localhost:8080/"
        },
        "id": "bsA6tKYIcgzP",
        "outputId": "fcd9f589-2aa0-483c-f3b1-10809f530b82"
      },
      "outputs": [
        {
          "name": "stdout",
          "output_type": "stream",
          "text": [
            "How old are you?22\n",
            "22\n"
          ]
        }
      ],
      "source": [
        "age = input(\"How old are you?\")\n",
        "print(age)"
      ]
    },
    {
      "cell_type": "code",
      "execution_count": null,
      "metadata": {
        "colab": {
          "base_uri": "https://localhost:8080/"
        },
        "id": "t9cCnuPlc5lN",
        "outputId": "5cac124a-fca0-42f5-d633-c15c94c738c4"
      },
      "outputs": [
        {
          "data": {
            "text/plain": [
              "str"
            ]
          },
          "execution_count": 24,
          "metadata": {},
          "output_type": "execute_result"
        }
      ],
      "source": [
        "type(age)"
      ]
    },
    {
      "cell_type": "code",
      "execution_count": null,
      "metadata": {
        "colab": {
          "base_uri": "https://localhost:8080/"
        },
        "id": "GmYTIOgGdCdG",
        "outputId": "29fd8f32-685c-4eac-eb0e-d4d0db9e6a0b"
      },
      "outputs": [
        {
          "data": {
            "text/plain": [
              "int"
            ]
          },
          "execution_count": 26,
          "metadata": {},
          "output_type": "execute_result"
        }
      ],
      "source": [
        "type(int(age))"
      ]
    },
    {
      "cell_type": "code",
      "execution_count": null,
      "metadata": {
        "colab": {
          "base_uri": "https://localhost:8080/"
        },
        "id": "HKk4GIhhdJMF",
        "outputId": "1fc0533f-bba7-466f-dc91-9938d0edcafb"
      },
      "outputs": [
        {
          "name": "stdout",
          "output_type": "stream",
          "text": [
            "How old are you?20\n",
            "You were born in 2005\n"
          ]
        }
      ],
      "source": [
        "# Exercise 2\n",
        "age = int(input(\"How old are you?\"))\n",
        "yob = 2025 - age\n",
        "print(\"You were born in\", yob)"
      ]
    },
    {
      "cell_type": "code",
      "execution_count": null,
      "metadata": {
        "colab": {
          "base_uri": "https://localhost:8080/"
        },
        "id": "A1kO2iZ7diCK",
        "outputId": "e2544d14-5675-4375-cabf-ace6e542dc5b"
      },
      "outputs": [
        {
          "name": "stdout",
          "output_type": "stream",
          "text": [
            "a 4 9 test\n"
          ]
        }
      ],
      "source": [
        "print(\"a\", 4, 3 ** 2, \"test\")"
      ]
    },
    {
      "cell_type": "code",
      "execution_count": null,
      "metadata": {
        "colab": {
          "base_uri": "https://localhost:8080/"
        },
        "id": "1yKRRLICdrKA",
        "outputId": "9d74e093-b685-48da-b6dd-0b28656608f3"
      },
      "outputs": [
        {
          "name": "stdout",
          "output_type": "stream",
          "text": [
            "What's your mark?40\n",
            "You will get an F\n"
          ]
        }
      ],
      "source": [
        "# Exercise 3\n",
        "\n",
        "mark = int(input(\"What's your mark?\"))\n",
        "\n",
        "if mark >= 90:\n",
        "    print(\"You will get an A\")\n",
        "elif mark >= 55:\n",
        "    print(\"You will get a B\")\n",
        "else:\n",
        "    print(\"You will get an F\")"
      ]
    },
    {
      "cell_type": "code",
      "execution_count": null,
      "metadata": {
        "colab": {
          "base_uri": "https://localhost:8080/"
        },
        "id": "GpZ5tmeMehFn",
        "outputId": "7d0fc983-4fd8-412f-9c0d-670256755c5f"
      },
      "outputs": [
        {
          "name": "stdout",
          "output_type": "stream",
          "text": [
            "Enter a number7\n",
            "7 is an odd number.\n"
          ]
        }
      ],
      "source": [
        "# Exercise 4\n",
        "\n",
        "num = int(input(\"Enter a number\"))\n",
        "\n",
        "if num % 2 == 0:\n",
        "    print(num, \"is an even number.\")\n",
        "else:\n",
        "    print(num, \"is an odd number.\")"
      ]
    },
    {
      "cell_type": "code",
      "execution_count": null,
      "metadata": {
        "colab": {
          "base_uri": "https://localhost:8080/"
        },
        "id": "7hlBUwTJfHP5",
        "outputId": "d572ddb0-90eb-431d-9e05-5118eba467d5"
      },
      "outputs": [
        {
          "name": "stdout",
          "output_type": "stream",
          "text": [
            "Enter a number between 1 and 107\n",
            "7 is prime.\n"
          ]
        }
      ],
      "source": [
        "# Exercise 5\n",
        "\n",
        "num = int(input(\"Enter a number between 1 and 10\"))\n",
        "\n",
        "if num == 2 or num == 3 or num == 5 or num == 7:\n",
        "    print(num, \"is prime.\")\n",
        "else:\n",
        "    print(num, \"isn't prime.\")"
      ]
    },
    {
      "cell_type": "code",
      "execution_count": null,
      "metadata": {
        "colab": {
          "base_uri": "https://localhost:8080/"
        },
        "id": "hYLl9oiBfpu1",
        "outputId": "f459e366-b81b-4303-a2c0-50cba2ee74ce"
      },
      "outputs": [
        {
          "name": "stdout",
          "output_type": "stream",
          "text": [
            "Enter a number between 1 and 108\n",
            "8 isn't prime.\n"
          ]
        }
      ],
      "source": [
        "# Exercise 5\n",
        "\n",
        "num = int(input(\"Enter a number between 1 and 10\"))\n",
        "\n",
        "if num == 2:\n",
        "    print(num, \"is prime.\")\n",
        "elif num == 3:\n",
        "    print(num, \"is prime.\")\n",
        "elif num == 5:\n",
        "    print(num, \"is prime.\")\n",
        "elif num == 7:\n",
        "    print(num, \"is prime.\")\n",
        "else:\n",
        "    print(num, \"isn't prime.\")"
      ]
    },
    {
      "cell_type": "code",
      "execution_count": null,
      "metadata": {
        "colab": {
          "base_uri": "https://localhost:8080/"
        },
        "id": "8VFxgd31gLwV",
        "outputId": "ca79ae61-71e6-4946-fc22-fb0a76535fb0"
      },
      "outputs": [
        {
          "name": "stdout",
          "output_type": "stream",
          "text": [
            "How old are you?55\n",
            "Old\n"
          ]
        }
      ],
      "source": [
        "# Ex 6\n",
        "age = int(input(\"How old are you?\"))\n",
        "\n",
        "if age >= 0 and age < 15:\n",
        "    print(\"Too young\")\n",
        "elif age >= 15 and age < 25:\n",
        "    print(\"Young\")\n",
        "elif age >= 25 and age < 45:\n",
        "    print(\"Middle aged\")\n",
        "else:\n",
        "    print(\"Old\")"
      ]
    },
    {
      "cell_type": "code",
      "execution_count": null,
      "metadata": {
        "colab": {
          "base_uri": "https://localhost:8080/"
        },
        "id": "OIqe-5CNSbkk",
        "outputId": "254cad1d-27da-4535-bc09-859cc2982f6d"
      },
      "outputs": [
        {
          "name": "stdout",
          "output_type": "stream",
          "text": [
            "How old are you?55\n",
            "Old\n"
          ]
        }
      ],
      "source": [
        "# Ex 6\n",
        "age = int(input(\"How old are you?\"))\n",
        "\n",
        "if age < 15:\n",
        "    print(\"Too young\")\n",
        "elif age < 25:\n",
        "    print(\"Young\")\n",
        "elif age < 45:\n",
        "    print(\"Middle aged\")\n",
        "else:\n",
        "    print(\"Old\")"
      ]
    },
    {
      "cell_type": "code",
      "execution_count": null,
      "metadata": {
        "colab": {
          "base_uri": "https://localhost:8080/"
        },
        "id": "-8QV90SQTwpb",
        "outputId": "f492f046-2a56-4048-a63b-2efb15c1d2ae"
      },
      "outputs": [
        {
          "name": "stdout",
          "output_type": "stream",
          "text": [
            "What's your vit B level?50\n",
            "What's your vit D level?150\n",
            "You should visit a doctor\n"
          ]
        }
      ],
      "source": [
        "# Ex 7\n",
        "vb = int(input(\"What's your vit B level?\"))\n",
        "vd = int(input(\"What's your vit D level?\"))\n",
        "\n",
        "if vb < 100 or vd < 100:\n",
        "    print(\"You should visit a doctor\")\n",
        "else:\n",
        "    print(\"You are healthy\")"
      ]
    },
    {
      "cell_type": "code",
      "execution_count": null,
      "metadata": {
        "colab": {
          "base_uri": "https://localhost:8080/"
        },
        "id": "YzaXZvfRUXA3",
        "outputId": "81d99582-6dbd-4a30-e459-7d26219da0fb"
      },
      "outputs": [
        {
          "name": "stdout",
          "output_type": "stream",
          "text": [
            "What's your vit B level?150\n",
            "What's your vit D level?120\n",
            "Healthy\n"
          ]
        }
      ],
      "source": [
        "# Ex 7\n",
        "vb = int(input(\"What's your vit B level?\"))\n",
        "vd = int(input(\"What's your vit D level?\"))\n",
        "\n",
        "should_visit_doc = False\n",
        "\n",
        "if vb < 100:\n",
        "    should_visit_doc = True\n",
        "\n",
        "if vd < 100:\n",
        "    should_visit_doc = True\n",
        "\n",
        "if should_visit_doc:\n",
        "    print(\"Doctor\")\n",
        "else:\n",
        "    print(\"Healthy\")"
      ]
    },
    {
      "cell_type": "code",
      "execution_count": null,
      "metadata": {
        "colab": {
          "base_uri": "https://localhost:8080/"
        },
        "id": "uuPk_Kz1WW2V",
        "outputId": "f8835dd0-68b9-4b17-9d93-d5dcd5a8524f"
      },
      "outputs": [
        {
          "name": "stdout",
          "output_type": "stream",
          "text": [
            "What's your midterm grade?60\n",
            "What's your final grade?75\n",
            "B\n"
          ]
        }
      ],
      "source": [
        "# Ex 8\n",
        "\n",
        "midterm = int(input(\"What's your midterm grade?\"))\n",
        "final = int(input(\"What's your final grade?\"))\n",
        "\n",
        "grade = midterm * 0.3 + final * 0.7\n",
        "\n",
        "if grade >= 90 and grade <= 100:\n",
        "    print(\"A\")\n",
        "elif grade >= 50 and grade < 90:\n",
        "    print(\"B\")\n",
        "else:\n",
        "    print(\"F\")"
      ]
    },
    {
      "cell_type": "code",
      "execution_count": null,
      "metadata": {
        "colab": {
          "base_uri": "https://localhost:8080/"
        },
        "id": "IlDr_2tLW3TP",
        "outputId": "9071710e-a49a-4801-b5c7-89fd39fe88c5"
      },
      "outputs": [
        {
          "name": "stdout",
          "output_type": "stream",
          "text": [
            "Enter the first number: 12\n",
            "Enter the second number: 5\n",
            "Enter operation: div\n",
            "2.4\n"
          ]
        }
      ],
      "source": [
        "# Ex 9\n",
        "\n",
        "num1 = int(input(\"Enter the first number: \"))\n",
        "num2 = int(input(\"Enter the second number: \"))\n",
        "\n",
        "op = input(\"Enter operation: \")\n",
        "\n",
        "if op == \"add\":\n",
        "    result = num1 + num2\n",
        "elif op == \"mult\":\n",
        "    result = num1 * num2\n",
        "elif op == \"sub\":\n",
        "    result = num1 - num2\n",
        "elif op == \"div\":\n",
        "    result = num1 / num2\n",
        "\n",
        "print(result)"
      ]
    },
    {
      "cell_type": "code",
      "execution_count": null,
      "metadata": {
        "colab": {
          "base_uri": "https://localhost:8080/"
        },
        "id": "_n_qdyDgd_M_",
        "outputId": "eac4fd40-89c0-4cbd-bfe6-a9b08dca4355"
      },
      "outputs": [
        {
          "name": "stdout",
          "output_type": "stream",
          "text": [
            "3\n",
            "What's your first guess? 1\n",
            "What's your second guess? 5\n",
            "What's your final guess? 3\n",
            "You won!\n"
          ]
        }
      ],
      "source": [
        "# Ex 10\n",
        "\n",
        "import random\n",
        "\n",
        "target = random.randint(1, 8)\n",
        "print(target)\n",
        "\n",
        "guess = int(input(\"What's your first guess? \"))\n",
        "\n",
        "if guess == target:\n",
        "    print(\"You won!\")\n",
        "else:\n",
        "    guess = int(input(\"What's your second guess? \"))\n",
        "    if guess == target:\n",
        "        print(\"You won!\")\n",
        "    else:\n",
        "        guess = int(input(\"What's your final guess? \"))\n",
        "        if guess == target:\n",
        "            print(\"You won!\")\n",
        "        else:\n",
        "            print(\"You lost...\")"
      ]
    },
    {
      "cell_type": "code",
      "execution_count": null,
      "metadata": {
        "colab": {
          "base_uri": "https://localhost:8080/"
        },
        "id": "lzBvtmBCeKps",
        "outputId": "0aeb5420-dbed-4e8c-9423-ec47dee72779"
      },
      "outputs": [
        {
          "name": "stdout",
          "output_type": "stream",
          "text": [
            "What's your first guess? 5\n",
            "Guess a smaller number this time: 3\n",
            "Guess a smaller number: 2\n",
            "You won!\n"
          ]
        }
      ],
      "source": [
        "# Ex 10\n",
        "\n",
        "import random\n",
        "\n",
        "target = random.randint(1, 8)\n",
        "\n",
        "guess = int(input(\"What's your first guess? \"))\n",
        "\n",
        "if guess == target:\n",
        "    print(\"You won!\")\n",
        "else:\n",
        "    if target > guess:\n",
        "        guess = int(input(\"Guess a larger number this time: \"))\n",
        "    else:\n",
        "        guess = int(input(\"Guess a smaller number this time: \"))\n",
        "\n",
        "    if guess == target:\n",
        "        print(\"You won!\")\n",
        "    else:\n",
        "        if target > guess:\n",
        "            guess = int(input(\"Guess a larger number: \"))\n",
        "        else:\n",
        "            guess = int(input(\"Guess a smaller number: \"))\n",
        "\n",
        "        if guess == target:\n",
        "            print(\"You won!\")\n",
        "        else:\n",
        "            print(\"You lost...\")"
      ]
    }
  ],
  "metadata": {
    "colab": {
      "provenance": []
    },
    "kernelspec": {
      "display_name": "Python 3",
      "name": "python3"
    },
    "language_info": {
      "name": "python"
    }
  },
  "nbformat": 4,
  "nbformat_minor": 0
}
